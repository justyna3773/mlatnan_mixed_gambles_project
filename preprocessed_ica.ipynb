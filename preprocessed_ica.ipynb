{
 "cells": [
  {
   "cell_type": "code",
   "execution_count": 1,
   "id": "f77085ed-5ed6-4e6c-be5b-3fa1b3f3b6e1",
   "metadata": {
    "ExecuteTime": {
     "end_time": "2023-11-13T20:35:35.240060Z",
     "start_time": "2023-11-13T20:35:35.107034Z"
    },
    "vscode": {
     "languageId": "shellscript"
    }
   },
   "outputs": [],
   "source": [
    "import warnings\n",
    "warnings.filterwarnings('ignore')"
   ]
  },
  {
   "cell_type": "code",
   "execution_count": 2,
   "id": "2506a6ef",
   "metadata": {
    "ExecuteTime": {
     "end_time": "2023-11-13T20:35:35.248063Z",
     "start_time": "2023-11-13T20:35:35.247567Z"
    },
    "vscode": {
     "languageId": "shellscript"
    }
   },
   "outputs": [],
   "source": [
    "import matplotlib.pyplot as plt\n",
    "from nilearn.decomposition import CanICA\n",
    "from nilearn.plotting import plot_prob_atlas, plot_stat_map\n",
    "from nilearn.image import iter_img"
   ]
  },
  {
   "cell_type": "code",
   "execution_count": 65,
   "id": "0bdc1696-bfa4-4efa-b6cd-e1921c4130b5",
   "metadata": {
    "ExecuteTime": {
     "start_time": "2023-11-13T20:35:35.247965Z"
    },
    "vscode": {
     "languageId": "shellscript"
    }
   },
   "outputs": [],
   "source": [
    "func_filenames = [\n",
    "    'vol_0_1_maths.nii.gz'\n",
    "]"
   ]
  },
  {
   "cell_type": "code",
   "execution_count": 66,
   "id": "56131ddc",
   "metadata": {
    "ExecuteTime": {
     "start_time": "2023-11-13T20:35:35.248344Z"
    },
    "vscode": {
     "languageId": "shellscript"
    }
   },
   "outputs": [
    {
     "name": "stdout",
     "output_type": "stream",
     "text": [
      "[MultiNiftiMasker.fit] Loading data from [vol_0_1_maths.nii.gz].\n",
      "[{self.__class__.__name__}.fit] Computing mask\n",
      "Template whole-brain mask computation\n",
      "[MultiNiftiMasker.transform] Resampling mask\n",
      "[CanICA] Loading data\n",
      "[MultiNiftiMasker.transform_single_imgs] Loading data from Nifti1Image(\n",
      "shape=(97, 115, 97, 1),\n",
      "affine=array([[   2. ,    0. ,    0. ,  -96.5],\n",
      "       [   0. ,    2. ,    0. , -132.5],\n",
      "       [   0. ,    0. ,    2. ,  -78.5],\n",
      "       [   0. ,    0. ,    0. ,    1. ]])\n",
      ")\n",
      "[MultiNiftiMasker.transform_single_imgs] Smoothing images\n",
      "[MultiNiftiMasker.transform_single_imgs] Extracting region signals\n",
      "[MultiNiftiMasker.transform_single_imgs] Cleaning extracted signals\n",
      "________________________________________________________________________________\n",
      "[Memory] Calling sklearn.utils.extmath.randomized_svd...\n",
      "randomized_svd(array([[0.001469],\n",
      "       ...,\n",
      "       [0.001953]], dtype=float32), n_components=10, transpose=True, random_state=0, n_iter=3)\n",
      "___________________________________________________randomized_svd - 0.6s, 0.0min\n",
      "________________________________________________________________________________\n",
      "[Memory] Calling sklearn.decomposition._fastica.fastica...\n",
      "fastica(array([[0.001469],\n",
      "       ...,\n",
      "       [0.001953]]), whiten='arbitrary-variance', fun='cube', random_state=209652396)\n",
      "__________________________________________________________fastica - 0.1s, 0.0min\n",
      "________________________________________________________________________________\n",
      "[Memory] Calling sklearn.decomposition._fastica.fastica...\n",
      "fastica(array([[0.001469],\n",
      "       ...,\n",
      "       [0.001953]]), whiten='arbitrary-variance', fun='cube', random_state=398764591)\n",
      "__________________________________________________________fastica - 0.0s, 0.0min\n",
      "________________________________________________________________________________\n",
      "[Memory] Calling sklearn.decomposition._fastica.fastica...\n",
      "fastica(array([[0.001469],\n",
      "       ...,\n",
      "       [0.001953]]), whiten='arbitrary-variance', fun='cube', random_state=924231285)\n",
      "__________________________________________________________fastica - 0.0s, 0.0min\n"
     ]
    },
    {
     "name": "stderr",
     "output_type": "stream",
     "text": [
      "[Parallel(n_jobs=1)]: Done   1 tasks      | elapsed:    0.1s\n",
      "[Parallel(n_jobs=1)]: Done   4 tasks      | elapsed:    0.3s\n"
     ]
    },
    {
     "name": "stdout",
     "output_type": "stream",
     "text": [
      "________________________________________________________________________________\n",
      "[Memory] Calling sklearn.decomposition._fastica.fastica...\n",
      "fastica(array([[0.001469],\n",
      "       ...,\n",
      "       [0.001953]]), whiten='arbitrary-variance', fun='cube', random_state=1478610112)\n",
      "__________________________________________________________fastica - 0.0s, 0.0min\n",
      "________________________________________________________________________________\n",
      "[Memory] Calling sklearn.decomposition._fastica.fastica...\n",
      "fastica(array([[0.001469],\n",
      "       ...,\n",
      "       [0.001953]]), whiten='arbitrary-variance', fun='cube', random_state=441365315)\n",
      "__________________________________________________________fastica - 0.0s, 0.0min\n",
      "________________________________________________________________________________\n",
      "[Memory] Calling sklearn.decomposition._fastica.fastica...\n",
      "fastica(array([[0.001469],\n",
      "       ...,\n",
      "       [0.001953]]), whiten='arbitrary-variance', fun='cube', random_state=1537364731)\n",
      "__________________________________________________________fastica - 0.0s, 0.0min\n",
      "________________________________________________________________________________\n",
      "[Memory] Calling sklearn.decomposition._fastica.fastica...\n",
      "fastica(array([[0.001469],\n",
      "       ...,\n",
      "       [0.001953]]), whiten='arbitrary-variance', fun='cube', random_state=192771779)\n",
      "__________________________________________________________fastica - 0.1s, 0.0min\n",
      "________________________________________________________________________________\n",
      "[Memory] Calling sklearn.decomposition._fastica.fastica...\n",
      "fastica(array([[0.001469],\n",
      "       ...,\n",
      "       [0.001953]]), whiten='arbitrary-variance', fun='cube', random_state=1491434855)\n",
      "__________________________________________________________fastica - 0.1s, 0.0min\n",
      "________________________________________________________________________________\n",
      "[Memory] Calling sklearn.decomposition._fastica.fastica...\n",
      "fastica(array([[0.001469],\n",
      "       ...,\n",
      "       [0.001953]]), whiten='arbitrary-variance', fun='cube', random_state=1819583497)\n",
      "__________________________________________________________fastica - 0.0s, 0.0min\n"
     ]
    },
    {
     "name": "stderr",
     "output_type": "stream",
     "text": [
      "[Parallel(n_jobs=1)]: Done   7 tasks      | elapsed:    0.5s\n"
     ]
    },
    {
     "name": "stdout",
     "output_type": "stream",
     "text": [
      "________________________________________________________________________________\n",
      "[Memory] Calling sklearn.decomposition._fastica.fastica...\n",
      "fastica(array([[0.001469],\n",
      "       ...,\n",
      "       [0.001953]]), whiten='arbitrary-variance', fun='cube', random_state=530702035)\n",
      "__________________________________________________________fastica - 0.1s, 0.0min\n"
     ]
    },
    {
     "data": {
      "text/html": [
       "<style>#sk-container-id-15 {color: black;}#sk-container-id-15 pre{padding: 0;}#sk-container-id-15 div.sk-toggleable {background-color: white;}#sk-container-id-15 label.sk-toggleable__label {cursor: pointer;display: block;width: 100%;margin-bottom: 0;padding: 0.3em;box-sizing: border-box;text-align: center;}#sk-container-id-15 label.sk-toggleable__label-arrow:before {content: \"▸\";float: left;margin-right: 0.25em;color: #696969;}#sk-container-id-15 label.sk-toggleable__label-arrow:hover:before {color: black;}#sk-container-id-15 div.sk-estimator:hover label.sk-toggleable__label-arrow:before {color: black;}#sk-container-id-15 div.sk-toggleable__content {max-height: 0;max-width: 0;overflow: hidden;text-align: left;background-color: #f0f8ff;}#sk-container-id-15 div.sk-toggleable__content pre {margin: 0.2em;color: black;border-radius: 0.25em;background-color: #f0f8ff;}#sk-container-id-15 input.sk-toggleable__control:checked~div.sk-toggleable__content {max-height: 200px;max-width: 100%;overflow: auto;}#sk-container-id-15 input.sk-toggleable__control:checked~label.sk-toggleable__label-arrow:before {content: \"▾\";}#sk-container-id-15 div.sk-estimator input.sk-toggleable__control:checked~label.sk-toggleable__label {background-color: #d4ebff;}#sk-container-id-15 div.sk-label input.sk-toggleable__control:checked~label.sk-toggleable__label {background-color: #d4ebff;}#sk-container-id-15 input.sk-hidden--visually {border: 0;clip: rect(1px 1px 1px 1px);clip: rect(1px, 1px, 1px, 1px);height: 1px;margin: -1px;overflow: hidden;padding: 0;position: absolute;width: 1px;}#sk-container-id-15 div.sk-estimator {font-family: monospace;background-color: #f0f8ff;border: 1px dotted black;border-radius: 0.25em;box-sizing: border-box;margin-bottom: 0.5em;}#sk-container-id-15 div.sk-estimator:hover {background-color: #d4ebff;}#sk-container-id-15 div.sk-parallel-item::after {content: \"\";width: 100%;border-bottom: 1px solid gray;flex-grow: 1;}#sk-container-id-15 div.sk-label:hover label.sk-toggleable__label {background-color: #d4ebff;}#sk-container-id-15 div.sk-serial::before {content: \"\";position: absolute;border-left: 1px solid gray;box-sizing: border-box;top: 0;bottom: 0;left: 50%;z-index: 0;}#sk-container-id-15 div.sk-serial {display: flex;flex-direction: column;align-items: center;background-color: white;padding-right: 0.2em;padding-left: 0.2em;position: relative;}#sk-container-id-15 div.sk-item {position: relative;z-index: 1;}#sk-container-id-15 div.sk-parallel {display: flex;align-items: stretch;justify-content: center;background-color: white;position: relative;}#sk-container-id-15 div.sk-item::before, #sk-container-id-15 div.sk-parallel-item::before {content: \"\";position: absolute;border-left: 1px solid gray;box-sizing: border-box;top: 0;bottom: 0;left: 50%;z-index: -1;}#sk-container-id-15 div.sk-parallel-item {display: flex;flex-direction: column;z-index: 1;position: relative;background-color: white;}#sk-container-id-15 div.sk-parallel-item:first-child::after {align-self: flex-end;width: 50%;}#sk-container-id-15 div.sk-parallel-item:last-child::after {align-self: flex-start;width: 50%;}#sk-container-id-15 div.sk-parallel-item:only-child::after {width: 0;}#sk-container-id-15 div.sk-dashed-wrapped {border: 1px dashed gray;margin: 0 0.4em 0.5em 0.4em;box-sizing: border-box;padding-bottom: 0.4em;background-color: white;}#sk-container-id-15 div.sk-label label {font-family: monospace;font-weight: bold;display: inline-block;line-height: 1.2em;}#sk-container-id-15 div.sk-label-container {text-align: center;}#sk-container-id-15 div.sk-container {/* jupyter's `normalize.less` sets `[hidden] { display: none; }` but bootstrap.min.css set `[hidden] { display: none !important; }` so we also need the `!important` here to be able to override the default hidden behavior on the sphinx rendered scikit-learn.org. See: https://github.com/scikit-learn/scikit-learn/issues/21755 */display: inline-block !important;position: relative;}#sk-container-id-15 div.sk-text-repr-fallback {display: none;}</style><div id=\"sk-container-id-15\" class=\"sk-top-container\"><div class=\"sk-text-repr-fallback\"><pre>CanICA(mask_strategy=&#x27;whole-brain-template&#x27;,\n",
       "       memory=Memory(location=nilearn_cache/joblib), memory_level=2,\n",
       "       n_components=10, random_state=0, standardize=&#x27;zscore_sample&#x27;,\n",
       "       verbose=10)</pre><b>In a Jupyter environment, please rerun this cell to show the HTML representation or trust the notebook. <br />On GitHub, the HTML representation is unable to render, please try loading this page with nbviewer.org.</b></div><div class=\"sk-container\" hidden><div class=\"sk-item\"><div class=\"sk-estimator sk-toggleable\"><input class=\"sk-toggleable__control sk-hidden--visually\" id=\"sk-estimator-id-15\" type=\"checkbox\" checked><label for=\"sk-estimator-id-15\" class=\"sk-toggleable__label sk-toggleable__label-arrow\">CanICA</label><div class=\"sk-toggleable__content\"><pre>CanICA(mask_strategy=&#x27;whole-brain-template&#x27;,\n",
       "       memory=Memory(location=nilearn_cache/joblib), memory_level=2,\n",
       "       n_components=10, random_state=0, standardize=&#x27;zscore_sample&#x27;,\n",
       "       verbose=10)</pre></div></div></div></div></div>"
      ],
      "text/plain": [
       "CanICA(mask_strategy='whole-brain-template',\n",
       "       memory=Memory(location=nilearn_cache/joblib), memory_level=2,\n",
       "       n_components=10, random_state=0, standardize='zscore_sample',\n",
       "       verbose=10)"
      ]
     },
     "execution_count": 66,
     "metadata": {},
     "output_type": "execute_result"
    }
   ],
   "source": [
    "canica = CanICA(\n",
    "    n_components=10,\n",
    "    memory='nilearn_cache',\n",
    "    memory_level=2,\n",
    "    verbose=10,\n",
    "    mask_strategy='whole-brain-template',\n",
    "    random_state=0,\n",
    "    standardize='zscore_sample',\n",
    ")\n",
    "canica.fit(func_filenames)"
   ]
  },
  {
   "cell_type": "code",
   "execution_count": 67,
   "id": "c6944e18",
   "metadata": {
    "ExecuteTime": {
     "end_time": "2023-11-13T20:35:35.248662Z",
     "start_time": "2023-11-13T20:35:35.248466Z"
    },
    "vscode": {
     "languageId": "shellscript"
    }
   },
   "outputs": [
    {
     "data": {
      "image/png": "[encoded data removed]",
      "text/plain": [
       "<Figure size 660x350 with 4 Axes>"
      ]
     },
     "metadata": {},
     "output_type": "display_data"
    }
   ],
   "source": [
    "plot_prob_atlas(canica.components_img_, title='All ICA components', draw_cross=False)\n",
    "plt.show()"
   ]
  },
  {
   "cell_type": "code",
   "execution_count": 68,
   "id": "f66bb2c4",
   "metadata": {
    "ExecuteTime": {
     "start_time": "2023-11-13T20:35:35.248572Z"
    },
    "vscode": {
     "languageId": "shellscript"
    }
   },
   "outputs": [
    {
     "name": "stdout",
     "output_type": "stream",
     "text": [
      "[MultiNiftiMasker.transform_single_imgs] Loading data from Nifti1Image(\n",
      "shape=(97, 115, 97, 1),\n",
      "affine=array([[   2. ,    0. ,    0. ,  -96.5],\n",
      "       [   0. ,    2. ,    0. , -132.5],\n",
      "       [   0. ,    0. ,    2. ,  -78.5],\n",
      "       [   0. ,    0. ,    0. ,    1. ]])\n",
      ")\n",
      "[MultiNiftiMasker.transform_single_imgs] Smoothing images\n",
      "[MultiNiftiMasker.transform_single_imgs] Extracting region signals\n",
      "[MultiNiftiMasker.transform_single_imgs] Cleaning extracted signals\n",
      "________________________________________________________________________________\n",
      "[Memory] Calling nilearn.decomposition._base._explained_variance...\n",
      "_explained_variance(array([[ 3.101459e-04, ..., -6.242102e-05]], dtype=float32), array([[0.002192, ..., 0.000414]], dtype=float32), per_component=False)\n",
      "_______________________________________________explained_variance - 0.0s, 0.0min\n",
      "Total explained variance: 0.9333929094417885\n"
     ]
    }
   ],
   "source": [
    "print('Total explained variance:', canica.score(canica.components_img_))"
   ]
  },
  {
   "cell_type": "code",
   "execution_count": 58,
   "id": "ade924cc",
   "metadata": {
    "ExecuteTime": {
     "end_time": "2023-11-13T20:35:35.248940Z",
     "start_time": "2023-11-13T20:35:35.248798Z"
    },
    "scrolled": true,
    "vscode": {
     "languageId": "shellscript"
    }
   },
   "outputs": [
    {
     "data": {
      "image/png": "[encoded data removed]",
      "text/plain": [
       "<Figure size 220x320 with 2 Axes>"
      ]
     },
     "metadata": {},
     "output_type": "display_data"
    },
    {
     "data": {
      "image/png": "[encoded data removed]",
      "text/plain": [
       "<Figure size 220x320 with 2 Axes>"
      ]
     },
     "metadata": {},
     "output_type": "display_data"
    }
   ],
   "source": [
    "for i, cur_img in enumerate(iter_img(canica.components_img_)):\n",
    "    plot_stat_map(cur_img, display_mode='z', title=f'IC {int(i)}', cut_coords=1, colorbar=False)"
   ]
  },
  {
   "cell_type": "code",
   "execution_count": 8,
   "id": "b7ec4755-9caf-45c1-9f79-a54b7a325e18",
   "metadata": {
    "ExecuteTime": {
     "start_time": "2023-11-13T20:35:35.250012Z"
    },
    "vscode": {
     "languageId": "shellscript"
    }
   },
   "outputs": [],
   "source": [
    "canica.components_img_.to_filename('ica_components.nii.gz')"
   ]
  },
  {
   "cell_type": "markdown",
   "metadata": {},
   "source": [
    "## Analysis of images belonging to the same assessed risk value"
   ]
  },
  {
   "cell_type": "code",
   "execution_count": 1,
   "metadata": {
    "vscode": {
     "languageId": "shellscript"
    }
   },
   "outputs": [
    {
     "data": {
      "text/html": [
       "<div>\n",
       "<style scoped>\n",
       "    .dataframe tbody tr th:only-of-type {\n",
       "        vertical-align: middle;\n",
       "    }\n",
       "\n",
       "    .dataframe tbody tr th {\n",
       "        vertical-align: top;\n",
       "    }\n",
       "\n",
       "    .dataframe thead th {\n",
       "        text-align: right;\n",
       "    }\n",
       "</style>\n",
       "<table border=\"1\" class=\"dataframe\">\n",
       "  <thead>\n",
       "    <tr style=\"text-align: right;\">\n",
       "      <th></th>\n",
       "      <th>onset</th>\n",
       "      <th>duration</th>\n",
       "      <th>parametric loss</th>\n",
       "      <th>distance from indifference</th>\n",
       "      <th>parametric gain</th>\n",
       "      <th>gain</th>\n",
       "      <th>loss</th>\n",
       "      <th>PTval</th>\n",
       "      <th>respnum</th>\n",
       "      <th>respcat</th>\n",
       "      <th>response_time</th>\n",
       "    </tr>\n",
       "  </thead>\n",
       "  <tbody>\n",
       "    <tr>\n",
       "      <th>0</th>\n",
       "      <td>0.0</td>\n",
       "      <td>3</td>\n",
       "      <td>0.1273</td>\n",
       "      <td>-0.0814</td>\n",
       "      <td>-0.139</td>\n",
       "      <td>20</td>\n",
       "      <td>15</td>\n",
       "      <td>5.15</td>\n",
       "      <td>0</td>\n",
       "      <td>-1</td>\n",
       "      <td>0.000</td>\n",
       "    </tr>\n",
       "    <tr>\n",
       "      <th>1</th>\n",
       "      <td>4.0</td>\n",
       "      <td>3</td>\n",
       "      <td>-0.0227</td>\n",
       "      <td>-0.4147</td>\n",
       "      <td>-0.189</td>\n",
       "      <td>18</td>\n",
       "      <td>12</td>\n",
       "      <td>6.12</td>\n",
       "      <td>2</td>\n",
       "      <td>1</td>\n",
       "      <td>1.793</td>\n",
       "    </tr>\n",
       "    <tr>\n",
       "      <th>2</th>\n",
       "      <td>8.0</td>\n",
       "      <td>3</td>\n",
       "      <td>0.1273</td>\n",
       "      <td>0.2519</td>\n",
       "      <td>-0.389</td>\n",
       "      <td>10</td>\n",
       "      <td>15</td>\n",
       "      <td>-4.85</td>\n",
       "      <td>3</td>\n",
       "      <td>0</td>\n",
       "      <td>1.637</td>\n",
       "    </tr>\n",
       "    <tr>\n",
       "      <th>3</th>\n",
       "      <td>18.0</td>\n",
       "      <td>3</td>\n",
       "      <td>0.1773</td>\n",
       "      <td>-0.0814</td>\n",
       "      <td>0.211</td>\n",
       "      <td>34</td>\n",
       "      <td>16</td>\n",
       "      <td>18.16</td>\n",
       "      <td>1</td>\n",
       "      <td>1</td>\n",
       "      <td>1.316</td>\n",
       "    </tr>\n",
       "    <tr>\n",
       "      <th>4</th>\n",
       "      <td>24.0</td>\n",
       "      <td>3</td>\n",
       "      <td>-0.3727</td>\n",
       "      <td>-0.0814</td>\n",
       "      <td>-0.189</td>\n",
       "      <td>18</td>\n",
       "      <td>5</td>\n",
       "      <td>13.05</td>\n",
       "      <td>1</td>\n",
       "      <td>1</td>\n",
       "      <td>1.670</td>\n",
       "    </tr>\n",
       "  </tbody>\n",
       "</table>\n",
       "</div>"
      ],
      "text/plain": [
       "   onset  duration  parametric loss  distance from indifference  \\\n",
       "0    0.0         3           0.1273                     -0.0814   \n",
       "1    4.0         3          -0.0227                     -0.4147   \n",
       "2    8.0         3           0.1273                      0.2519   \n",
       "3   18.0         3           0.1773                     -0.0814   \n",
       "4   24.0         3          -0.3727                     -0.0814   \n",
       "\n",
       "   parametric gain  gain  loss  PTval  respnum  respcat  response_time  \n",
       "0           -0.139    20    15   5.15        0       -1          0.000  \n",
       "1           -0.189    18    12   6.12        2        1          1.793  \n",
       "2           -0.389    10    15  -4.85        3        0          1.637  \n",
       "3            0.211    34    16  18.16        1        1          1.316  \n",
       "4           -0.189    18     5  13.05        1        1          1.670  "
      ]
     },
     "execution_count": 1,
     "metadata": {},
     "output_type": "execute_result"
    }
   ],
   "source": [
    "import pandas as pd\n",
    "events = pd.read_csv('sub-01_task-mixedgamblestask_run-01_events.tsv', sep='\\t')\n",
    "events.head()\n"
   ]
  },
  {
   "cell_type": "code",
   "execution_count": 2,
   "metadata": {
    "vscode": {
     "languageId": "shellscript"
    }
   },
   "outputs": [
    {
     "data": {
      "text/html": [
       "<div>\n",
       "<style scoped>\n",
       "    .dataframe tbody tr th:only-of-type {\n",
       "        vertical-align: middle;\n",
       "    }\n",
       "\n",
       "    .dataframe tbody tr th {\n",
       "        vertical-align: top;\n",
       "    }\n",
       "\n",
       "    .dataframe thead th {\n",
       "        text-align: right;\n",
       "    }\n",
       "</style>\n",
       "<table border=\"1\" class=\"dataframe\">\n",
       "  <thead>\n",
       "    <tr style=\"text-align: right;\">\n",
       "      <th></th>\n",
       "      <th>onset</th>\n",
       "      <th>duration</th>\n",
       "      <th>parametric loss</th>\n",
       "      <th>distance from indifference</th>\n",
       "      <th>parametric gain</th>\n",
       "      <th>gain</th>\n",
       "      <th>loss</th>\n",
       "      <th>PTval</th>\n",
       "      <th>respnum</th>\n",
       "      <th>respcat</th>\n",
       "      <th>response_time</th>\n",
       "    </tr>\n",
       "  </thead>\n",
       "  <tbody>\n",
       "    <tr>\n",
       "      <th>12</th>\n",
       "      <td>74.0</td>\n",
       "      <td>3</td>\n",
       "      <td>0.2273</td>\n",
       "      <td>0.5853</td>\n",
       "      <td>-0.289</td>\n",
       "      <td>14</td>\n",
       "      <td>17</td>\n",
       "      <td>-2.83</td>\n",
       "      <td>4</td>\n",
       "      <td>0</td>\n",
       "      <td>1.822</td>\n",
       "    </tr>\n",
       "    <tr>\n",
       "      <th>14</th>\n",
       "      <td>82.0</td>\n",
       "      <td>3</td>\n",
       "      <td>0.3773</td>\n",
       "      <td>0.5853</td>\n",
       "      <td>-0.289</td>\n",
       "      <td>14</td>\n",
       "      <td>20</td>\n",
       "      <td>-5.80</td>\n",
       "      <td>4</td>\n",
       "      <td>0</td>\n",
       "      <td>1.206</td>\n",
       "    </tr>\n",
       "    <tr>\n",
       "      <th>26</th>\n",
       "      <td>134.0</td>\n",
       "      <td>3</td>\n",
       "      <td>0.3773</td>\n",
       "      <td>0.5853</td>\n",
       "      <td>-0.239</td>\n",
       "      <td>16</td>\n",
       "      <td>20</td>\n",
       "      <td>-3.80</td>\n",
       "      <td>4</td>\n",
       "      <td>0</td>\n",
       "      <td>1.047</td>\n",
       "    </tr>\n",
       "    <tr>\n",
       "      <th>29</th>\n",
       "      <td>156.0</td>\n",
       "      <td>3</td>\n",
       "      <td>0.1273</td>\n",
       "      <td>0.2519</td>\n",
       "      <td>-0.339</td>\n",
       "      <td>12</td>\n",
       "      <td>15</td>\n",
       "      <td>-2.85</td>\n",
       "      <td>4</td>\n",
       "      <td>0</td>\n",
       "      <td>1.082</td>\n",
       "    </tr>\n",
       "    <tr>\n",
       "      <th>59</th>\n",
       "      <td>342.0</td>\n",
       "      <td>3</td>\n",
       "      <td>-0.0727</td>\n",
       "      <td>-0.0814</td>\n",
       "      <td>-0.389</td>\n",
       "      <td>10</td>\n",
       "      <td>11</td>\n",
       "      <td>-0.89</td>\n",
       "      <td>4</td>\n",
       "      <td>0</td>\n",
       "      <td>1.806</td>\n",
       "    </tr>\n",
       "  </tbody>\n",
       "</table>\n",
       "</div>"
      ],
      "text/plain": [
       "    onset  duration  parametric loss  distance from indifference  \\\n",
       "12   74.0         3           0.2273                      0.5853   \n",
       "14   82.0         3           0.3773                      0.5853   \n",
       "26  134.0         3           0.3773                      0.5853   \n",
       "29  156.0         3           0.1273                      0.2519   \n",
       "59  342.0         3          -0.0727                     -0.0814   \n",
       "\n",
       "    parametric gain  gain  loss  PTval  respnum  respcat  response_time  \n",
       "12           -0.289    14    17  -2.83        4        0          1.822  \n",
       "14           -0.289    14    20  -5.80        4        0          1.206  \n",
       "26           -0.239    16    20  -3.80        4        0          1.047  \n",
       "29           -0.339    12    15  -2.85        4        0          1.082  \n",
       "59           -0.389    10    11  -0.89        4        0          1.806  "
      ]
     },
     "execution_count": 2,
     "metadata": {},
     "output_type": "execute_result"
    }
   ],
   "source": [
    "# events where subjective loss was the largest\n",
    "# 0 = strongly accept, 4- strongly reject\n",
    "onsets = events[events['respnum'] == 4]\n",
    "onsets.head()"
   ]
  },
  {
   "cell_type": "code",
   "execution_count": 3,
   "metadata": {
    "vscode": {
     "languageId": "shellscript"
    }
   },
   "outputs": [
    {
     "data": {
      "text/plain": [
       "[74.0, 82.0, 134.0, 156.0, 342.0, 346.0, 386.0, 402.0, 458.0]"
      ]
     },
     "execution_count": 3,
     "metadata": {},
     "output_type": "execute_result"
    }
   ],
   "source": [
    "onsets = onsets['onset'].values.tolist()\n",
    "onsets"
   ]
  },
  {
   "cell_type": "code",
   "execution_count": 4,
   "metadata": {
    "vscode": {
     "languageId": "shellscript"
    }
   },
   "outputs": [
    {
     "ename": "FileNotFoundError",
     "evalue": "[Errno 2] No such file or directory: 'timestamp_filename.json'",
     "output_type": "error",
     "traceback": [
      "\u001b[0;31m---------------------------------------------------------------------------\u001b[0m",
      "\u001b[0;31mFileNotFoundError\u001b[0m                         Traceback (most recent call last)",
      "\u001b[1;32m/home/justyna/neuro_2/ica_components.ipynb Cell 13\u001b[0m line \u001b[0;36m2\n\u001b[1;32m      <a href='vscode-notebook-cell:/home/justyna/neuro_2/ica_components.ipynb#X14sZmlsZQ%3D%3D?line=0'>1</a>\u001b[0m \u001b[39mfrom\u001b[39;00m \u001b[39mpreprocess\u001b[39;00m \u001b[39mimport\u001b[39;00m \u001b[39m*\u001b[39m\n\u001b[0;32m----> <a href='vscode-notebook-cell:/home/justyna/neuro_2/ica_components.ipynb#X14sZmlsZQ%3D%3D?line=1'>2</a>\u001b[0m merge_files_based_on_timestamps(onsets)\n",
      "File \u001b[0;32m~/neuro_2/preprocess.py:108\u001b[0m, in \u001b[0;36mmerge_files_based_on_timestamps\u001b[0;34m(timestamp_list)\u001b[0m\n\u001b[1;32m    107\u001b[0m \u001b[39mdef\u001b[39;00m \u001b[39mmerge_files_based_on_timestamps\u001b[39m(timestamp_list):\n\u001b[0;32m--> 108\u001b[0m     \u001b[39mwith\u001b[39;00m \u001b[39mopen\u001b[39;49m(\u001b[39m'\u001b[39;49m\u001b[39mtimestamp_filename.json\u001b[39;49m\u001b[39m'\u001b[39;49m, \u001b[39m'\u001b[39;49m\u001b[39mr\u001b[39;49m\u001b[39m'\u001b[39;49m) \u001b[39mas\u001b[39;00m fp:\n\u001b[1;32m    109\u001b[0m         timestamp_filename \u001b[39m=\u001b[39m json\u001b[39m.\u001b[39mload(fp)\n\u001b[1;32m    110\u001b[0m     first_input_file \u001b[39m=\u001b[39m timestamp_filename[timestamp_list[\u001b[39m0\u001b[39m]]\n",
      "\u001b[0;31mFileNotFoundError\u001b[0m: [Errno 2] No such file or directory: 'timestamp_filename.json'"
     ]
    }
   ],
   "source": [
    "from preprocess import *\n",
    "merge_files_based_on_timestamps(onsets)\n"
   ]
  },
  {
   "cell_type": "code",
   "execution_count": null,
   "metadata": {
    "vscode": {
     "languageId": "shellscript"
    }
   },
   "outputs": [],
   "source": []
  }
 ],
 "metadata": {
  "kernelspec": {
   "display_name": "ML4Neuro",
   "language": "python",
   "name": "python3"
  },
  "language_info": {
   "codemirror_mode": {
    "name": "ipython",
    "version": 3
   },
   "file_extension": ".py",
   "mimetype": "text/x-python",
   "name": "python",
   "nbconvert_exporter": "python",
   "pygments_lexer": "ipython3",
   "version": "3.11.5"
  }
 },
 "nbformat": 4,
 "nbformat_minor": 5
}
