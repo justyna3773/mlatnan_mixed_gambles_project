{
 "cells": [
  {
   "cell_type": "code",
   "execution_count": 1,
   "id": "2506a6ef",
   "metadata": {
    "ExecuteTime": {
     "end_time": "2023-11-13T20:35:35.248063Z",
     "start_time": "2023-11-13T20:35:35.247567Z"
    },
    "vscode": {
     "languageId": "shellscript"
    }
   },
   "outputs": [],
   "source": [
    "import warnings\n",
    "warnings.filterwarnings('ignore')\n",
    "import matplotlib.pyplot as plt\n",
    "from nilearn.decomposition import CanICA\n",
    "from nilearn.plotting import plot_prob_atlas, plot_stat_map\n",
    "from nilearn.image import iter_img"
   ]
  },
  {
   "cell_type": "code",
   "execution_count": 8,
   "id": "b7ec4755-9caf-45c1-9f79-a54b7a325e18",
   "metadata": {
    "ExecuteTime": {
     "start_time": "2023-11-13T20:35:35.250012Z"
    },
    "vscode": {
     "languageId": "shellscript"
    }
   },
   "outputs": [],
   "source": [
    "#canica.components_img_.to_filename('ica_components.nii.gz')"
   ]
  },
  {
   "cell_type": "markdown",
   "metadata": {},
   "source": [
    "## Analysis of images belonging to the same assessed risk value"
   ]
  },
  {
   "cell_type": "code",
   "execution_count": 1,
   "metadata": {
    "vscode": {
     "languageId": "shellscript"
    }
   },
   "outputs": [
    {
     "data": {
      "text/html": [
       "<div>\n",
       "<style scoped>\n",
       "    .dataframe tbody tr th:only-of-type {\n",
       "        vertical-align: middle;\n",
       "    }\n",
       "\n",
       "    .dataframe tbody tr th {\n",
       "        vertical-align: top;\n",
       "    }\n",
       "\n",
       "    .dataframe thead th {\n",
       "        text-align: right;\n",
       "    }\n",
       "</style>\n",
       "<table border=\"1\" class=\"dataframe\">\n",
       "  <thead>\n",
       "    <tr style=\"text-align: right;\">\n",
       "      <th></th>\n",
       "      <th>onset</th>\n",
       "      <th>duration</th>\n",
       "      <th>parametric loss</th>\n",
       "      <th>distance from indifference</th>\n",
       "      <th>parametric gain</th>\n",
       "      <th>gain</th>\n",
       "      <th>loss</th>\n",
       "      <th>PTval</th>\n",
       "      <th>respnum</th>\n",
       "      <th>respcat</th>\n",
       "      <th>response_time</th>\n",
       "    </tr>\n",
       "  </thead>\n",
       "  <tbody>\n",
       "    <tr>\n",
       "      <th>0</th>\n",
       "      <td>0.0</td>\n",
       "      <td>3</td>\n",
       "      <td>0.1273</td>\n",
       "      <td>-0.0814</td>\n",
       "      <td>-0.139</td>\n",
       "      <td>20</td>\n",
       "      <td>15</td>\n",
       "      <td>5.15</td>\n",
       "      <td>0</td>\n",
       "      <td>-1</td>\n",
       "      <td>0.000</td>\n",
       "    </tr>\n",
       "    <tr>\n",
       "      <th>1</th>\n",
       "      <td>4.0</td>\n",
       "      <td>3</td>\n",
       "      <td>-0.0227</td>\n",
       "      <td>-0.4147</td>\n",
       "      <td>-0.189</td>\n",
       "      <td>18</td>\n",
       "      <td>12</td>\n",
       "      <td>6.12</td>\n",
       "      <td>2</td>\n",
       "      <td>1</td>\n",
       "      <td>1.793</td>\n",
       "    </tr>\n",
       "    <tr>\n",
       "      <th>2</th>\n",
       "      <td>8.0</td>\n",
       "      <td>3</td>\n",
       "      <td>0.1273</td>\n",
       "      <td>0.2519</td>\n",
       "      <td>-0.389</td>\n",
       "      <td>10</td>\n",
       "      <td>15</td>\n",
       "      <td>-4.85</td>\n",
       "      <td>3</td>\n",
       "      <td>0</td>\n",
       "      <td>1.637</td>\n",
       "    </tr>\n",
       "    <tr>\n",
       "      <th>3</th>\n",
       "      <td>18.0</td>\n",
       "      <td>3</td>\n",
       "      <td>0.1773</td>\n",
       "      <td>-0.0814</td>\n",
       "      <td>0.211</td>\n",
       "      <td>34</td>\n",
       "      <td>16</td>\n",
       "      <td>18.16</td>\n",
       "      <td>1</td>\n",
       "      <td>1</td>\n",
       "      <td>1.316</td>\n",
       "    </tr>\n",
       "    <tr>\n",
       "      <th>4</th>\n",
       "      <td>24.0</td>\n",
       "      <td>3</td>\n",
       "      <td>-0.3727</td>\n",
       "      <td>-0.0814</td>\n",
       "      <td>-0.189</td>\n",
       "      <td>18</td>\n",
       "      <td>5</td>\n",
       "      <td>13.05</td>\n",
       "      <td>1</td>\n",
       "      <td>1</td>\n",
       "      <td>1.670</td>\n",
       "    </tr>\n",
       "  </tbody>\n",
       "</table>\n",
       "</div>"
      ],
      "text/plain": [
       "   onset  duration  parametric loss  distance from indifference  \\\n",
       "0    0.0         3           0.1273                     -0.0814   \n",
       "1    4.0         3          -0.0227                     -0.4147   \n",
       "2    8.0         3           0.1273                      0.2519   \n",
       "3   18.0         3           0.1773                     -0.0814   \n",
       "4   24.0         3          -0.3727                     -0.0814   \n",
       "\n",
       "   parametric gain  gain  loss  PTval  respnum  respcat  response_time  \n",
       "0           -0.139    20    15   5.15        0       -1          0.000  \n",
       "1           -0.189    18    12   6.12        2        1          1.793  \n",
       "2           -0.389    10    15  -4.85        3        0          1.637  \n",
       "3            0.211    34    16  18.16        1        1          1.316  \n",
       "4           -0.189    18     5  13.05        1        1          1.670  "
      ]
     },
     "execution_count": 1,
     "metadata": {},
     "output_type": "execute_result"
    }
   ],
   "source": [
    "import pandas as pd\n",
    "events = pd.read_csv('sub-01_task-mixedgamblestask_run-01_events.tsv', sep='\\t')\n",
    "events.head()\n"
   ]
  },
  {
   "cell_type": "markdown",
   "metadata": {},
   "source": [
    "Choosing events where subjective loss was the largest - 4 (corresponds to strong rejection of gamble)"
   ]
  },
  {
   "cell_type": "code",
   "execution_count": 15,
   "metadata": {
    "vscode": {
     "languageId": "shellscript"
    }
   },
   "outputs": [
    {
     "data": {
      "text/html": [
       "<div>\n",
       "<style scoped>\n",
       "    .dataframe tbody tr th:only-of-type {\n",
       "        vertical-align: middle;\n",
       "    }\n",
       "\n",
       "    .dataframe tbody tr th {\n",
       "        vertical-align: top;\n",
       "    }\n",
       "\n",
       "    .dataframe thead th {\n",
       "        text-align: right;\n",
       "    }\n",
       "</style>\n",
       "<table border=\"1\" class=\"dataframe\">\n",
       "  <thead>\n",
       "    <tr style=\"text-align: right;\">\n",
       "      <th></th>\n",
       "      <th>onset</th>\n",
       "      <th>duration</th>\n",
       "      <th>parametric loss</th>\n",
       "      <th>distance from indifference</th>\n",
       "      <th>parametric gain</th>\n",
       "      <th>gain</th>\n",
       "      <th>loss</th>\n",
       "      <th>PTval</th>\n",
       "      <th>respnum</th>\n",
       "      <th>respcat</th>\n",
       "      <th>response_time</th>\n",
       "    </tr>\n",
       "  </thead>\n",
       "  <tbody>\n",
       "    <tr>\n",
       "      <th>12</th>\n",
       "      <td>74.0</td>\n",
       "      <td>3</td>\n",
       "      <td>0.2273</td>\n",
       "      <td>0.5853</td>\n",
       "      <td>-0.289</td>\n",
       "      <td>14</td>\n",
       "      <td>17</td>\n",
       "      <td>-2.83</td>\n",
       "      <td>4</td>\n",
       "      <td>0</td>\n",
       "      <td>1.822</td>\n",
       "    </tr>\n",
       "    <tr>\n",
       "      <th>14</th>\n",
       "      <td>82.0</td>\n",
       "      <td>3</td>\n",
       "      <td>0.3773</td>\n",
       "      <td>0.5853</td>\n",
       "      <td>-0.289</td>\n",
       "      <td>14</td>\n",
       "      <td>20</td>\n",
       "      <td>-5.80</td>\n",
       "      <td>4</td>\n",
       "      <td>0</td>\n",
       "      <td>1.206</td>\n",
       "    </tr>\n",
       "    <tr>\n",
       "      <th>26</th>\n",
       "      <td>134.0</td>\n",
       "      <td>3</td>\n",
       "      <td>0.3773</td>\n",
       "      <td>0.5853</td>\n",
       "      <td>-0.239</td>\n",
       "      <td>16</td>\n",
       "      <td>20</td>\n",
       "      <td>-3.80</td>\n",
       "      <td>4</td>\n",
       "      <td>0</td>\n",
       "      <td>1.047</td>\n",
       "    </tr>\n",
       "    <tr>\n",
       "      <th>29</th>\n",
       "      <td>156.0</td>\n",
       "      <td>3</td>\n",
       "      <td>0.1273</td>\n",
       "      <td>0.2519</td>\n",
       "      <td>-0.339</td>\n",
       "      <td>12</td>\n",
       "      <td>15</td>\n",
       "      <td>-2.85</td>\n",
       "      <td>4</td>\n",
       "      <td>0</td>\n",
       "      <td>1.082</td>\n",
       "    </tr>\n",
       "    <tr>\n",
       "      <th>59</th>\n",
       "      <td>342.0</td>\n",
       "      <td>3</td>\n",
       "      <td>-0.0727</td>\n",
       "      <td>-0.0814</td>\n",
       "      <td>-0.389</td>\n",
       "      <td>10</td>\n",
       "      <td>11</td>\n",
       "      <td>-0.89</td>\n",
       "      <td>4</td>\n",
       "      <td>0</td>\n",
       "      <td>1.806</td>\n",
       "    </tr>\n",
       "  </tbody>\n",
       "</table>\n",
       "</div>"
      ],
      "text/plain": [
       "    onset  duration  parametric loss  distance from indifference  \\\n",
       "12   74.0         3           0.2273                      0.5853   \n",
       "14   82.0         3           0.3773                      0.5853   \n",
       "26  134.0         3           0.3773                      0.5853   \n",
       "29  156.0         3           0.1273                      0.2519   \n",
       "59  342.0         3          -0.0727                     -0.0814   \n",
       "\n",
       "    parametric gain  gain  loss  PTval  respnum  respcat  response_time  \n",
       "12           -0.289    14    17  -2.83        4        0          1.822  \n",
       "14           -0.289    14    20  -5.80        4        0          1.206  \n",
       "26           -0.239    16    20  -3.80        4        0          1.047  \n",
       "29           -0.339    12    15  -2.85        4        0          1.082  \n",
       "59           -0.389    10    11  -0.89        4        0          1.806  "
      ]
     },
     "execution_count": 15,
     "metadata": {},
     "output_type": "execute_result"
    }
   ],
   "source": [
    "# events where subjective loss was the largest\n",
    "# 0 = strongly accept, 4- strongly reject\n",
    "onsets = events[events['respnum'] == 4]\n",
    "onsets.head()"
   ]
  },
  {
   "cell_type": "code",
   "execution_count": 16,
   "metadata": {
    "vscode": {
     "languageId": "shellscript"
    }
   },
   "outputs": [
    {
     "data": {
      "text/plain": [
       "[74.0, 82.0, 134.0, 156.0, 342.0, 346.0, 386.0, 402.0, 458.0]"
      ]
     },
     "execution_count": 16,
     "metadata": {},
     "output_type": "execute_result"
    }
   ],
   "source": [
    "onsets = onsets['onset'].values.tolist()\n",
    "onsets"
   ]
  },
  {
   "cell_type": "markdown",
   "metadata": {},
   "source": [
    "Merging volumes corresponding to events where subjective loss was the largest"
   ]
  },
  {
   "cell_type": "code",
   "execution_count": 17,
   "metadata": {
    "vscode": {
     "languageId": "shellscript"
    }
   },
   "outputs": [
    {
     "name": "stdout",
     "output_type": "stream",
     "text": [
      "['fslmaths', 'merged_run1_slices_37_38_onset_74.nii.gz', '-add', 'merged_run1_slices_41_42_onset_82.nii.gz', 'loss_merged.nii.gz']\n",
      "['fslmaths', 'loss_merged.nii.gz', '-add', 'merged_run1_slices_37_38_onset_74.nii.gz', 'loss_merged.nii.gz']\n",
      "['fslmaths', 'loss_merged.nii.gz', '-add', 'merged_run1_slices_41_42_onset_82.nii.gz', 'loss_merged.nii.gz']\n",
      "['fslmaths', 'loss_merged.nii.gz', '-add', 'merged_run1_slices_67_68_69_onset_134.nii.gz', 'loss_merged.nii.gz']\n",
      "['fslmaths', 'loss_merged.nii.gz', '-add', 'merged_run1_slices_78_79_onset_156.nii.gz', 'loss_merged.nii.gz']\n",
      "['fslmaths', 'loss_merged.nii.gz', '-add', 'merged_run1_slices_171_172_onset_342.nii.gz', 'loss_merged.nii.gz']\n",
      "['fslmaths', 'loss_merged.nii.gz', '-add', 'merged_run1_slices_173_174_onset_346.nii.gz', 'loss_merged.nii.gz']\n",
      "['fslmaths', 'loss_merged.nii.gz', '-add', 'merged_run1_slices_193_194_195_196_197_198_onset_386.nii.gz', 'loss_merged.nii.gz']\n"
     ]
    }
   ],
   "source": [
    "from preprocess import *\n",
    "merge_files_based_on_timestamps(onsets, output_prefix='loss')\n",
    "# files merged using fslmaths command with \"-add\" parameter"
   ]
  },
  {
   "cell_type": "markdown",
   "metadata": {},
   "source": [
    "### Large subjective attractiveness - weak acceptance of gamble"
   ]
  },
  {
   "cell_type": "code",
   "execution_count": 2,
   "metadata": {
    "vscode": {
     "languageId": "shellscript"
    }
   },
   "outputs": [
    {
     "data": {
      "text/plain": [
       "[18.0,\n",
       " 24.0,\n",
       " 46.0,\n",
       " 52.0,\n",
       " 62.0,\n",
       " 90.0,\n",
       " 102.0,\n",
       " 116.0,\n",
       " 126.0,\n",
       " 130.0,\n",
       " 140.0,\n",
       " 170.0,\n",
       " 208.0,\n",
       " 212.0,\n",
       " 220.0,\n",
       " 224.0,\n",
       " 238.0,\n",
       " 266.0,\n",
       " 272.0,\n",
       " 280.0,\n",
       " 310.0,\n",
       " 316.0,\n",
       " 320.0,\n",
       " 330.0,\n",
       " 336.0,\n",
       " 360.0,\n",
       " 364.0,\n",
       " 412.0,\n",
       " 420.0,\n",
       " 444.0,\n",
       " 448.0,\n",
       " 466.0]"
      ]
     },
     "execution_count": 2,
     "metadata": {},
     "output_type": "execute_result"
    }
   ],
   "source": [
    "onsets_win = events[events['respnum'] == 1]\n",
    "onsets_win = onsets_win['onset'].values.tolist()\n",
    "onsets_win"
   ]
  },
  {
   "cell_type": "code",
   "execution_count": 3,
   "metadata": {
    "vscode": {
     "languageId": "shellscript"
    }
   },
   "outputs": [
    {
     "name": "stdout",
     "output_type": "stream",
     "text": [
      "['fslmaths', 'merged_run1_slices_9_10_11_onset_18.nii.gz', '-add', 'merged_run1_slices_12_13_onset_24.nii.gz', 'win_merged.nii.gz']\n",
      "['fslmaths', 'win_merged.nii.gz', '-add', 'merged_run1_slices_9_10_11_onset_18.nii.gz', 'win_merged.nii.gz']\n",
      "['fslmaths', 'win_merged.nii.gz', '-add', 'merged_run1_slices_12_13_onset_24.nii.gz', 'win_merged.nii.gz']\n",
      "['fslmaths', 'win_merged.nii.gz', '-add', 'merged_run1_slices_23_24_25_onset_46.nii.gz', 'win_merged.nii.gz']\n",
      "['fslmaths', 'win_merged.nii.gz', '-add', 'merged_run1_slices_26_27_onset_52.nii.gz', 'win_merged.nii.gz']\n",
      "['fslmaths', 'win_merged.nii.gz', '-add', 'merged_run1_slices_31_32_33_34_35_36_onset_62.nii.gz', 'win_merged.nii.gz']\n",
      "['fslmaths', 'win_merged.nii.gz', '-add', 'merged_run1_slices_45_46_onset_90.nii.gz', 'win_merged.nii.gz']\n",
      "['fslmaths', 'win_merged.nii.gz', '-add', 'merged_run1_slices_51_52_onset_102.nii.gz', 'win_merged.nii.gz']\n",
      "['fslmaths', 'win_merged.nii.gz', '-add', 'merged_run1_slices_58_59_onset_116.nii.gz', 'win_merged.nii.gz']\n",
      "['fslmaths', 'win_merged.nii.gz', '-add', 'merged_run1_slices_63_64_onset_126.nii.gz', 'win_merged.nii.gz']\n",
      "['fslmaths', 'win_merged.nii.gz', '-add', 'merged_run1_slices_65_66_onset_130.nii.gz', 'win_merged.nii.gz']\n",
      "['fslmaths', 'win_merged.nii.gz', '-add', 'merged_run1_slices_70_71_72_73_onset_140.nii.gz', 'win_merged.nii.gz']\n",
      "['fslmaths', 'win_merged.nii.gz', '-add', 'merged_run1_slices_85_86_onset_170.nii.gz', 'win_merged.nii.gz']\n",
      "['fslmaths', 'win_merged.nii.gz', '-add', 'merged_run1_slices_104_105_onset_208.nii.gz', 'win_merged.nii.gz']\n",
      "['fslmaths', 'win_merged.nii.gz', '-add', 'merged_run1_slices_106_107_108_109_onset_212.nii.gz', 'win_merged.nii.gz']\n",
      "['fslmaths', 'win_merged.nii.gz', '-add', 'merged_run1_slices_110_111_onset_220.nii.gz', 'win_merged.nii.gz']\n",
      "['fslmaths', 'win_merged.nii.gz', '-add', 'merged_run1_slices_112_113_114_115_116_onset_224.nii.gz', 'win_merged.nii.gz']\n",
      "['fslmaths', 'win_merged.nii.gz', '-add', 'merged_run1_slices_119_120_121_122_onset_238.nii.gz', 'win_merged.nii.gz']\n",
      "['fslmaths', 'win_merged.nii.gz', '-add', 'merged_run1_slices_133_134_135_onset_266.nii.gz', 'win_merged.nii.gz']\n",
      "['fslmaths', 'win_merged.nii.gz', '-add', 'merged_run1_slices_136_137_138_139_onset_272.nii.gz', 'win_merged.nii.gz']\n",
      "['fslmaths', 'win_merged.nii.gz', '-add', 'merged_run1_slices_140_141_onset_280.nii.gz', 'win_merged.nii.gz']\n",
      "['fslmaths', 'win_merged.nii.gz', '-add', 'merged_run1_slices_155_156_157_onset_310.nii.gz', 'win_merged.nii.gz']\n",
      "['fslmaths', 'win_merged.nii.gz', '-add', 'merged_run1_slices_158_159_onset_316.nii.gz', 'win_merged.nii.gz']\n",
      "['fslmaths', 'win_merged.nii.gz', '-add', 'merged_run1_slices_160_161_onset_320.nii.gz', 'win_merged.nii.gz']\n",
      "['fslmaths', 'win_merged.nii.gz', '-add', 'merged_run1_slices_165_166_167_onset_330.nii.gz', 'win_merged.nii.gz']\n",
      "['fslmaths', 'win_merged.nii.gz', '-add', 'merged_run1_slices_168_169_170_onset_336.nii.gz', 'win_merged.nii.gz']\n",
      "['fslmaths', 'win_merged.nii.gz', '-add', 'merged_run1_slices_180_181_onset_360.nii.gz', 'win_merged.nii.gz']\n",
      "['fslmaths', 'win_merged.nii.gz', '-add', 'merged_run1_slices_182_183_onset_364.nii.gz', 'win_merged.nii.gz']\n",
      "['fslmaths', 'win_merged.nii.gz', '-add', 'merged_run1_slices_206_207_onset_412.nii.gz', 'win_merged.nii.gz']\n",
      "['fslmaths', 'win_merged.nii.gz', '-add', 'merged_run1_slices_210_211_onset_420.nii.gz', 'win_merged.nii.gz']\n",
      "['fslmaths', 'win_merged.nii.gz', '-add', 'merged_run1_slices_222_223_onset_444.nii.gz', 'win_merged.nii.gz']\n"
     ]
    }
   ],
   "source": [
    "from preprocess import *\n",
    "merge_files_based_on_timestamps(onsets_win, output_prefix='win')"
   ]
  },
  {
   "cell_type": "code",
   "execution_count": 3,
   "metadata": {
    "vscode": {
     "languageId": "shellscript"
    }
   },
   "outputs": [
    {
     "name": "stdout",
     "output_type": "stream",
     "text": [
      "[MultiNiftiMasker.fit] Loading data from [win_loss_diff.nii.gz].\n",
      "[{self.__class__.__name__}.fit] Computing mask\n",
      "Template whole-brain mask computation\n",
      "[MultiNiftiMasker.transform] Resampling mask\n",
      "[CanICA] Loading data\n",
      "[MultiNiftiMasker.transform_single_imgs] Loading data from Nifti1Image(\n",
      "shape=(97, 115, 97, 1),\n",
      "affine=array([[   2. ,    0. ,    0. ,  -96.5],\n",
      "       [   0. ,    2. ,    0. , -132.5],\n",
      "       [   0. ,    0. ,    2. ,  -78.5],\n",
      "       [   0. ,    0. ,    0. ,    1. ]])\n",
      ")\n",
      "[MultiNiftiMasker.transform_single_imgs] Smoothing images\n",
      "[MultiNiftiMasker.transform_single_imgs] Extracting region signals\n",
      "[MultiNiftiMasker.transform_single_imgs] Cleaning extracted signals\n",
      "________________________________________________________________________________\n",
      "[Memory] Calling sklearn.utils.extmath.randomized_svd...\n",
      "randomized_svd(array([[0.001461],\n",
      "       ...,\n",
      "       [0.001952]], dtype=float32), n_components=10, transpose=True, random_state=0, n_iter=3)\n",
      "___________________________________________________randomized_svd - 0.3s, 0.0min\n",
      "________________________________________________________________________________\n",
      "[Memory] Calling sklearn.decomposition._fastica.fastica...\n",
      "fastica(array([[0.001461],\n",
      "       ...,\n",
      "       [0.001952]]), whiten='arbitrary-variance', fun='cube', random_state=209652396)\n",
      "__________________________________________________________fastica - 0.1s, 0.0min\n",
      "________________________________________________________________________________\n",
      "[Memory] Calling sklearn.decomposition._fastica.fastica...\n",
      "fastica(array([[0.001461],\n",
      "       ...,\n",
      "       [0.001952]]), whiten='arbitrary-variance', fun='cube', random_state=398764591)\n",
      "__________________________________________________________fastica - 0.1s, 0.0min\n",
      "________________________________________________________________________________\n",
      "[Memory] Calling sklearn.decomposition._fastica.fastica...\n",
      "fastica(array([[0.001461],\n",
      "       ...,\n",
      "       [0.001952]]), whiten='arbitrary-variance', fun='cube', random_state=924231285)\n"
     ]
    },
    {
     "name": "stderr",
     "output_type": "stream",
     "text": [
      "[Parallel(n_jobs=1)]: Done   1 tasks      | elapsed:    0.1s\n"
     ]
    },
    {
     "name": "stdout",
     "output_type": "stream",
     "text": [
      "__________________________________________________________fastica - 0.0s, 0.0min\n",
      "________________________________________________________________________________\n",
      "[Memory] Calling sklearn.decomposition._fastica.fastica...\n",
      "fastica(array([[0.001461],\n",
      "       ...,\n",
      "       [0.001952]]), whiten='arbitrary-variance', fun='cube', random_state=1478610112)\n",
      "__________________________________________________________fastica - 0.0s, 0.0min\n",
      "________________________________________________________________________________\n",
      "[Memory] Calling sklearn.decomposition._fastica.fastica...\n",
      "fastica(array([[0.001461],\n",
      "       ...,\n",
      "       [0.001952]]), whiten='arbitrary-variance', fun='cube', random_state=441365315)\n"
     ]
    },
    {
     "name": "stderr",
     "output_type": "stream",
     "text": [
      "[Parallel(n_jobs=1)]: Done   4 tasks      | elapsed:    0.4s\n"
     ]
    },
    {
     "name": "stdout",
     "output_type": "stream",
     "text": [
      "__________________________________________________________fastica - 0.2s, 0.0min\n",
      "________________________________________________________________________________\n",
      "[Memory] Calling sklearn.decomposition._fastica.fastica...\n",
      "fastica(array([[0.001461],\n",
      "       ...,\n",
      "       [0.001952]]), whiten='arbitrary-variance', fun='cube', random_state=1537364731)\n",
      "__________________________________________________________fastica - 0.1s, 0.0min\n",
      "________________________________________________________________________________\n",
      "[Memory] Calling sklearn.decomposition._fastica.fastica...\n",
      "fastica(array([[0.001461],\n",
      "       ...,\n",
      "       [0.001952]]), whiten='arbitrary-variance', fun='cube', random_state=192771779)\n",
      "__________________________________________________________fastica - 0.0s, 0.0min\n",
      "________________________________________________________________________________\n",
      "[Memory] Calling sklearn.decomposition._fastica.fastica...\n",
      "fastica(array([[0.001461],\n",
      "       ...,\n",
      "       [0.001952]]), whiten='arbitrary-variance', fun='cube', random_state=1491434855)\n"
     ]
    },
    {
     "name": "stderr",
     "output_type": "stream",
     "text": [
      "[Parallel(n_jobs=1)]: Done   7 tasks      | elapsed:    0.8s\n"
     ]
    },
    {
     "name": "stdout",
     "output_type": "stream",
     "text": [
      "__________________________________________________________fastica - 0.0s, 0.0min\n",
      "________________________________________________________________________________\n",
      "[Memory] Calling sklearn.decomposition._fastica.fastica...\n",
      "fastica(array([[0.001461],\n",
      "       ...,\n",
      "       [0.001952]]), whiten='arbitrary-variance', fun='cube', random_state=1819583497)\n",
      "__________________________________________________________fastica - 0.0s, 0.0min\n",
      "________________________________________________________________________________\n",
      "[Memory] Calling sklearn.decomposition._fastica.fastica...\n",
      "fastica(array([[0.001461],\n",
      "       ...,\n",
      "       [0.001952]]), whiten='arbitrary-variance', fun='cube', random_state=530702035)\n",
      "__________________________________________________________fastica - 0.0s, 0.0min\n"
     ]
    },
    {
     "data": {
      "image/png": "[encoded data removed]",
      "text/plain": [
       "<Figure size 660x350 with 4 Axes>"
      ]
     },
     "metadata": {},
     "output_type": "display_data"
    }
   ],
   "source": [
    "func_filenames = [\n",
    "    'win_loss_diff.nii.gz'\n",
    "]\n",
    "canica = CanICA(\n",
    "    n_components=10,\n",
    "    memory='nilearn_cache',\n",
    "    memory_level=2,\n",
    "    verbose=10,\n",
    "    mask_strategy='whole-brain-template',\n",
    "    random_state=0,\n",
    "    standardize='zscore_sample',\n",
    ")\n",
    "canica.fit(func_filenames)\n",
    "plot_prob_atlas(canica.components_img_, title='All ICA components', draw_cross=False)\n",
    "plt.show()"
   ]
  },
  {
   "cell_type": "code",
   "execution_count": 4,
   "metadata": {
    "vscode": {
     "languageId": "shellscript"
    }
   },
   "outputs": [
    {
     "name": "stdout",
     "output_type": "stream",
     "text": [
      "[MultiNiftiMasker.transform_single_imgs] Loading data from Nifti1Image(\n",
      "shape=(97, 115, 97, 1),\n",
      "affine=array([[   2. ,    0. ,    0. ,  -96.5],\n",
      "       [   0. ,    2. ,    0. , -132.5],\n",
      "       [   0. ,    0. ,    2. ,  -78.5],\n",
      "       [   0. ,    0. ,    0. ,    1. ]])\n",
      ")\n",
      "[MultiNiftiMasker.transform_single_imgs] Smoothing images\n",
      "[MultiNiftiMasker.transform_single_imgs] Extracting region signals\n",
      "[MultiNiftiMasker.transform_single_imgs] Cleaning extracted signals\n",
      "________________________________________________________________________________\n",
      "[Memory] Calling nilearn.decomposition._base._explained_variance...\n",
      "_explained_variance(array([[ 3.442834e-04, ..., -6.131260e-05]], dtype=float32), array([[0.00224 , ..., 0.000422]], dtype=float32), per_component=False)\n",
      "_______________________________________________explained_variance - 0.0s, 0.0min\n",
      "Total explained variance: 0.9328622620711188\n"
     ]
    }
   ],
   "source": [
    "print('Total explained variance:', canica.score(canica.components_img_))"
   ]
  },
  {
   "cell_type": "code",
   "execution_count": 5,
   "metadata": {
    "vscode": {
     "languageId": "shellscript"
    }
   },
   "outputs": [
    {
     "data": {
      "image/png": "[encoded data removed]",
      "text/plain": [
       "<Figure size 220x320 with 2 Axes>"
      ]
     },
     "metadata": {},
     "output_type": "display_data"
    }
   ],
   "source": [
    "for i, cur_img in enumerate(iter_img(canica.components_img_)):\n",
    "    plot_stat_map(cur_img, display_mode='z', title=f'IC {int(i)}', cut_coords=1, colorbar=False)"
   ]
  },
  {
   "cell_type": "code",
   "execution_count": 18,
   "metadata": {
    "vscode": {
     "languageId": "shellscript"
    }
   },
   "outputs": [
    {
     "name": "stdout",
     "output_type": "stream",
     "text": [
      "[MultiNiftiMasker.fit] Loading data from [loss_merged.nii.gz].\n",
      "[{self.__class__.__name__}.fit] Computing mask\n",
      "Template whole-brain mask computation\n",
      "[MultiNiftiMasker.transform] Resampling mask\n",
      "[CanICA] Loading data\n",
      "[MultiNiftiMasker.transform_single_imgs] Loading data from Nifti1Image(\n",
      "shape=(97, 115, 97, 1),\n",
      "affine=array([[   2. ,    0. ,    0. ,  -96.5],\n",
      "       [   0. ,    2. ,    0. , -132.5],\n",
      "       [   0. ,    0. ,    2. ,  -78.5],\n",
      "       [   0. ,    0. ,    0. ,    1. ]])\n",
      ")\n",
      "[MultiNiftiMasker.transform_single_imgs] Smoothing images\n",
      "[MultiNiftiMasker.transform_single_imgs] Extracting region signals\n",
      "[MultiNiftiMasker.transform_single_imgs] Cleaning extracted signals\n",
      "________________________________________________________________________________\n",
      "[Memory] Calling sklearn.utils.extmath.randomized_svd...\n",
      "randomized_svd(array([[0.001459],\n",
      "       ...,\n",
      "       [0.001954]], dtype=float32), n_components=20, transpose=True, random_state=0, n_iter=3)\n",
      "___________________________________________________randomized_svd - 0.2s, 0.0min\n",
      "________________________________________________________________________________\n",
      "[Memory] Calling sklearn.decomposition._fastica.fastica...\n",
      "fastica(array([[0.001459],\n",
      "       ...,\n",
      "       [0.001954]]), whiten='arbitrary-variance', fun='cube', random_state=209652396)\n",
      "__________________________________________________________fastica - 0.0s, 0.0min\n",
      "________________________________________________________________________________\n",
      "[Memory] Calling sklearn.decomposition._fastica.fastica...\n",
      "fastica(array([[0.001459],\n",
      "       ...,\n",
      "       [0.001954]]), whiten='arbitrary-variance', fun='cube', random_state=398764591)\n",
      "__________________________________________________________fastica - 0.0s, 0.0min\n",
      "________________________________________________________________________________\n",
      "[Memory] Calling sklearn.decomposition._fastica.fastica...\n",
      "fastica(array([[0.001459],\n",
      "       ...,\n",
      "       [0.001954]]), whiten='arbitrary-variance', fun='cube', random_state=924231285)\n",
      "__________________________________________________________fastica - 0.0s, 0.0min\n",
      "________________________________________________________________________________\n",
      "[Memory] Calling sklearn.decomposition._fastica.fastica...\n",
      "fastica(array([[0.001459],\n",
      "       ...,\n",
      "       [0.001954]]), whiten='arbitrary-variance', fun='cube', random_state=1478610112)\n",
      "__________________________________________________________fastica - 0.0s, 0.0min\n"
     ]
    },
    {
     "name": "stderr",
     "output_type": "stream",
     "text": [
      "[Parallel(n_jobs=1)]: Done   1 tasks      | elapsed:    0.0s\n",
      "[Parallel(n_jobs=1)]: Done   4 tasks      | elapsed:    0.1s\n",
      "[Parallel(n_jobs=1)]: Done   7 tasks      | elapsed:    0.2s\n"
     ]
    },
    {
     "name": "stdout",
     "output_type": "stream",
     "text": [
      "________________________________________________________________________________\n",
      "[Memory] Calling sklearn.decomposition._fastica.fastica...\n",
      "fastica(array([[0.001459],\n",
      "       ...,\n",
      "       [0.001954]]), whiten='arbitrary-variance', fun='cube', random_state=441365315)\n",
      "__________________________________________________________fastica - 0.0s, 0.0min\n",
      "________________________________________________________________________________\n",
      "[Memory] Calling sklearn.decomposition._fastica.fastica...\n",
      "fastica(array([[0.001459],\n",
      "       ...,\n",
      "       [0.001954]]), whiten='arbitrary-variance', fun='cube', random_state=1537364731)\n",
      "__________________________________________________________fastica - 0.0s, 0.0min\n",
      "________________________________________________________________________________\n",
      "[Memory] Calling sklearn.decomposition._fastica.fastica...\n",
      "fastica(array([[0.001459],\n",
      "       ...,\n",
      "       [0.001954]]), whiten='arbitrary-variance', fun='cube', random_state=192771779)\n",
      "__________________________________________________________fastica - 0.0s, 0.0min\n",
      "________________________________________________________________________________\n",
      "[Memory] Calling sklearn.decomposition._fastica.fastica...\n",
      "fastica(array([[0.001459],\n",
      "       ...,\n",
      "       [0.001954]]), whiten='arbitrary-variance', fun='cube', random_state=1491434855)\n",
      "__________________________________________________________fastica - 0.0s, 0.0min\n",
      "________________________________________________________________________________\n",
      "[Memory] Calling sklearn.decomposition._fastica.fastica...\n",
      "fastica(array([[0.001459],\n",
      "       ...,\n",
      "       [0.001954]]), whiten='arbitrary-variance', fun='cube', random_state=1819583497)\n",
      "__________________________________________________________fastica - 0.0s, 0.0min\n",
      "________________________________________________________________________________\n",
      "[Memory] Calling sklearn.decomposition._fastica.fastica...\n",
      "fastica(array([[0.001459],\n",
      "       ...,\n",
      "       [0.001954]]), whiten='arbitrary-variance', fun='cube', random_state=530702035)\n",
      "__________________________________________________________fastica - 0.0s, 0.0min\n"
     ]
    },
    {
     "data": {
      "image/png": "[encoded data removed]",
      "text/plain": [
       "<Figure size 660x350 with 4 Axes>"
      ]
     },
     "metadata": {},
     "output_type": "display_data"
    }
   ],
   "source": [
    "func_filenames = [\n",
    "    'loss_merged.nii.gz'\n",
    "]\n",
    "canica = CanICA(\n",
    "    n_components=20,\n",
    "    memory='nilearn_cache',\n",
    "    memory_level=2,\n",
    "    verbose=10,\n",
    "    mask_strategy='whole-brain-template',\n",
    "    random_state=0,\n",
    "    standardize='zscore_sample',\n",
    ")\n",
    "canica.fit(func_filenames)\n",
    "plot_prob_atlas(canica.components_img_, title='All ICA components', draw_cross=False)\n",
    "plt.show()"
   ]
  },
  {
   "cell_type": "code",
   "execution_count": 19,
   "metadata": {
    "vscode": {
     "languageId": "shellscript"
    }
   },
   "outputs": [
    {
     "name": "stdout",
     "output_type": "stream",
     "text": [
      "[MultiNiftiMasker.transform_single_imgs] Loading data from Nifti1Image(\n",
      "shape=(97, 115, 97, 1),\n",
      "affine=array([[   2. ,    0. ,    0. ,  -96.5],\n",
      "       [   0. ,    2. ,    0. , -132.5],\n",
      "       [   0. ,    0. ,    2. ,  -78.5],\n",
      "       [   0. ,    0. ,    0. ,    1. ]])\n",
      ")\n",
      "[MultiNiftiMasker.transform_single_imgs] Smoothing images\n",
      "[MultiNiftiMasker.transform_single_imgs] Extracting region signals\n",
      "[MultiNiftiMasker.transform_single_imgs] Cleaning extracted signals\n",
      "________________________________________________________________________________\n",
      "[Memory] Calling nilearn.decomposition._base._explained_variance...\n",
      "_explained_variance(array([[ 3.462302e-04, ..., -6.566806e-05]], dtype=float32), array([[0.002247, ..., 0.000416]], dtype=float32), per_component=False)\n",
      "_______________________________________________explained_variance - 0.0s, 0.0min\n",
      "Total explained variance: 0.9328149534754481\n"
     ]
    }
   ],
   "source": [
    "print('Total explained variance:', canica.score(canica.components_img_))\n"
   ]
  },
  {
   "cell_type": "code",
   "execution_count": null,
   "metadata": {
    "vscode": {
     "languageId": "shellscript"
    }
   },
   "outputs": [],
   "source": []
  }
 ],
 "metadata": {
  "kernelspec": {
   "display_name": "ML4Neuro",
   "language": "python",
   "name": "python3"
  },
  "language_info": {
   "codemirror_mode": {
    "name": "ipython",
    "version": 3
   },
   "file_extension": ".py",
   "mimetype": "text/x-python",
   "name": "python",
   "nbconvert_exporter": "python",
   "pygments_lexer": "ipython3",
   "version": "3.11.5"
  }
 },
 "nbformat": 4,
 "nbformat_minor": 5
}
